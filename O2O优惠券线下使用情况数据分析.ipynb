{
 "cells": [
  {
   "cell_type": "code",
   "execution_count": 1,
   "id": "5a33f79d-e838-4a7c-bf06-93fd40ccadc6",
   "metadata": {},
   "outputs": [],
   "source": [
    "import pandas as pd\n",
    "import matplotlib.pyplot as plt\n",
    "import numpy as np\n",
    "%matplotlib inline"
   ]
  },
  {
   "cell_type": "markdown",
   "id": "71e1580a-b8ca-41f0-a87a-78c4dbc331cf",
   "metadata": {},
   "source": [
    "# 1.数据加载"
   ]
  },
  {
   "cell_type": "code",
   "execution_count": 2,
   "id": "effa2913-4cee-4239-b3a2-2a1d3f0550c9",
   "metadata": {},
   "outputs": [
    {
     "name": "stdout",
     "output_type": "stream",
     "text": [
      "<class 'pandas.core.frame.DataFrame'>\n",
      "RangeIndex: 1754884 entries, 0 to 1754883\n",
      "Data columns (total 7 columns):\n",
      " #   Column         Dtype         \n",
      "---  ------         -----         \n",
      " 0   User_id        int64         \n",
      " 1   Merchant_id    int64         \n",
      " 2   Coupon_id      float64       \n",
      " 3   Discount_rate  object        \n",
      " 4   Distance       float64       \n",
      " 5   Date_received  datetime64[ns]\n",
      " 6   Date           datetime64[ns]\n",
      "dtypes: datetime64[ns](2), float64(2), int64(2), object(1)\n",
      "memory usage: 93.7+ MB\n"
     ]
    }
   ],
   "source": [
    "data = pd.read_csv(r\"C:\\Users\\lihuiting\\Desktop\\数据分析案例应用\\ccf_offline_stage1_train.csv\",parse_dates = ['Date_received','Date']) #parse_dates:将指定的列加载成日期格式\n",
    "data.info() #175w+数据"
   ]
  },
  {
   "cell_type": "code",
   "execution_count": null,
   "id": "4d8b67e3-dbda-420f-b366-f4d3867970a6",
   "metadata": {},
   "outputs": [],
   "source": []
  },
  {
   "cell_type": "markdown",
   "id": "d4f810bc-c952-4823-ab8a-c309559d84f7",
   "metadata": {},
   "source": [
    "#### 字段解释\n",
    "#### User_id:用户id\n",
    "#### Merchant_id:商户id\n",
    "#### Coupon_id：优惠券ID，如果为空值就是没有优惠券消费\n",
    "#### Discount_rate:优惠率\n",
    "#### Distance:User经常活动的地点离该 merchant的最近距离,计算方法是x*500,取0指小于500米，10代表大于5公里。\n",
    "#### Date_received:领取优惠券日期\n",
    "#### Date：消费日期，如果Date = null&Coupon_id !=0表示领取了消费券但是没有使用。"
   ]
  },
  {
   "cell_type": "code",
   "execution_count": 3,
   "id": "a440b03d-9a7a-499d-a164-c8d46913cec0",
   "metadata": {},
   "outputs": [
    {
     "data": {
      "text/html": [
       "<div>\n",
       "<style scoped>\n",
       "    .dataframe tbody tr th:only-of-type {\n",
       "        vertical-align: middle;\n",
       "    }\n",
       "\n",
       "    .dataframe tbody tr th {\n",
       "        vertical-align: top;\n",
       "    }\n",
       "\n",
       "    .dataframe thead th {\n",
       "        text-align: right;\n",
       "    }\n",
       "</style>\n",
       "<table border=\"1\" class=\"dataframe\">\n",
       "  <thead>\n",
       "    <tr style=\"text-align: right;\">\n",
       "      <th></th>\n",
       "      <th>User_id</th>\n",
       "      <th>Merchant_id</th>\n",
       "      <th>Coupon_id</th>\n",
       "      <th>Discount_rate</th>\n",
       "      <th>Distance</th>\n",
       "      <th>Date_received</th>\n",
       "      <th>Date</th>\n",
       "    </tr>\n",
       "  </thead>\n",
       "  <tbody>\n",
       "    <tr>\n",
       "      <th>0</th>\n",
       "      <td>1439408</td>\n",
       "      <td>2632</td>\n",
       "      <td>NaN</td>\n",
       "      <td>NaN</td>\n",
       "      <td>0.0</td>\n",
       "      <td>NaT</td>\n",
       "      <td>2016-02-17</td>\n",
       "    </tr>\n",
       "    <tr>\n",
       "      <th>1</th>\n",
       "      <td>1439408</td>\n",
       "      <td>4663</td>\n",
       "      <td>11002.0</td>\n",
       "      <td>150:20</td>\n",
       "      <td>1.0</td>\n",
       "      <td>2016-05-28</td>\n",
       "      <td>NaT</td>\n",
       "    </tr>\n",
       "    <tr>\n",
       "      <th>2</th>\n",
       "      <td>1439408</td>\n",
       "      <td>2632</td>\n",
       "      <td>8591.0</td>\n",
       "      <td>20:1</td>\n",
       "      <td>0.0</td>\n",
       "      <td>2016-02-17</td>\n",
       "      <td>NaT</td>\n",
       "    </tr>\n",
       "    <tr>\n",
       "      <th>3</th>\n",
       "      <td>1439408</td>\n",
       "      <td>2632</td>\n",
       "      <td>1078.0</td>\n",
       "      <td>20:1</td>\n",
       "      <td>0.0</td>\n",
       "      <td>2016-03-19</td>\n",
       "      <td>NaT</td>\n",
       "    </tr>\n",
       "    <tr>\n",
       "      <th>4</th>\n",
       "      <td>1439408</td>\n",
       "      <td>2632</td>\n",
       "      <td>8591.0</td>\n",
       "      <td>20:1</td>\n",
       "      <td>0.0</td>\n",
       "      <td>2016-06-13</td>\n",
       "      <td>NaT</td>\n",
       "    </tr>\n",
       "    <tr>\n",
       "      <th>5</th>\n",
       "      <td>1439408</td>\n",
       "      <td>2632</td>\n",
       "      <td>NaN</td>\n",
       "      <td>NaN</td>\n",
       "      <td>0.0</td>\n",
       "      <td>NaT</td>\n",
       "      <td>2016-05-16</td>\n",
       "    </tr>\n",
       "    <tr>\n",
       "      <th>6</th>\n",
       "      <td>1439408</td>\n",
       "      <td>2632</td>\n",
       "      <td>8591.0</td>\n",
       "      <td>20:1</td>\n",
       "      <td>0.0</td>\n",
       "      <td>2016-05-16</td>\n",
       "      <td>2016-06-13</td>\n",
       "    </tr>\n",
       "    <tr>\n",
       "      <th>7</th>\n",
       "      <td>1832624</td>\n",
       "      <td>3381</td>\n",
       "      <td>7610.0</td>\n",
       "      <td>200:20</td>\n",
       "      <td>0.0</td>\n",
       "      <td>2016-04-29</td>\n",
       "      <td>NaT</td>\n",
       "    </tr>\n",
       "    <tr>\n",
       "      <th>8</th>\n",
       "      <td>2029232</td>\n",
       "      <td>3381</td>\n",
       "      <td>11951.0</td>\n",
       "      <td>200:20</td>\n",
       "      <td>1.0</td>\n",
       "      <td>2016-01-29</td>\n",
       "      <td>NaT</td>\n",
       "    </tr>\n",
       "    <tr>\n",
       "      <th>9</th>\n",
       "      <td>2029232</td>\n",
       "      <td>450</td>\n",
       "      <td>1532.0</td>\n",
       "      <td>30:5</td>\n",
       "      <td>0.0</td>\n",
       "      <td>2016-05-30</td>\n",
       "      <td>NaT</td>\n",
       "    </tr>\n",
       "  </tbody>\n",
       "</table>\n",
       "</div>"
      ],
      "text/plain": [
       "   User_id  Merchant_id  Coupon_id Discount_rate  Distance Date_received  \\\n",
       "0  1439408         2632        NaN           NaN       0.0           NaT   \n",
       "1  1439408         4663    11002.0        150:20       1.0    2016-05-28   \n",
       "2  1439408         2632     8591.0          20:1       0.0    2016-02-17   \n",
       "3  1439408         2632     1078.0          20:1       0.0    2016-03-19   \n",
       "4  1439408         2632     8591.0          20:1       0.0    2016-06-13   \n",
       "5  1439408         2632        NaN           NaN       0.0           NaT   \n",
       "6  1439408         2632     8591.0          20:1       0.0    2016-05-16   \n",
       "7  1832624         3381     7610.0        200:20       0.0    2016-04-29   \n",
       "8  2029232         3381    11951.0        200:20       1.0    2016-01-29   \n",
       "9  2029232          450     1532.0          30:5       0.0    2016-05-30   \n",
       "\n",
       "        Date  \n",
       "0 2016-02-17  \n",
       "1        NaT  \n",
       "2        NaT  \n",
       "3        NaT  \n",
       "4        NaT  \n",
       "5 2016-05-16  \n",
       "6 2016-06-13  \n",
       "7        NaT  \n",
       "8        NaT  \n",
       "9        NaT  "
      ]
     },
     "execution_count": 3,
     "metadata": {},
     "output_type": "execute_result"
    }
   ],
   "source": [
    "data.head(10)   #NAT是时间日期格式的空值"
   ]
  },
  {
   "cell_type": "markdown",
   "id": "e23f6298-c91a-4453-8b09-237530560a0a",
   "metadata": {},
   "source": [
    "# 2.数据规整"
   ]
  },
  {
   "cell_type": "markdown",
   "id": "597b47e7-6bb5-4a4d-bd3d-92180efee2bf",
   "metadata": {},
   "source": [
    "2.1计算折扣率"
   ]
  },
  {
   "cell_type": "code",
   "execution_count": 4,
   "id": "447156db-64e2-45c5-a98b-13222b640037",
   "metadata": {},
   "outputs": [
    {
     "data": {
      "text/html": [
       "<div>\n",
       "<style scoped>\n",
       "    .dataframe tbody tr th:only-of-type {\n",
       "        vertical-align: middle;\n",
       "    }\n",
       "\n",
       "    .dataframe tbody tr th {\n",
       "        vertical-align: top;\n",
       "    }\n",
       "\n",
       "    .dataframe thead th {\n",
       "        text-align: right;\n",
       "    }\n",
       "</style>\n",
       "<table border=\"1\" class=\"dataframe\">\n",
       "  <thead>\n",
       "    <tr style=\"text-align: right;\">\n",
       "      <th></th>\n",
       "      <th>User_id</th>\n",
       "      <th>Merchant_id</th>\n",
       "      <th>Coupon_id</th>\n",
       "      <th>Discount_rate</th>\n",
       "      <th>Distance</th>\n",
       "      <th>Date_received</th>\n",
       "      <th>Date</th>\n",
       "    </tr>\n",
       "  </thead>\n",
       "  <tbody>\n",
       "    <tr>\n",
       "      <th>0</th>\n",
       "      <td>1439408</td>\n",
       "      <td>2632</td>\n",
       "      <td>NaN</td>\n",
       "      <td>null</td>\n",
       "      <td>0.0</td>\n",
       "      <td>NaT</td>\n",
       "      <td>2016-02-17</td>\n",
       "    </tr>\n",
       "    <tr>\n",
       "      <th>1</th>\n",
       "      <td>1439408</td>\n",
       "      <td>4663</td>\n",
       "      <td>11002.0</td>\n",
       "      <td>150:20</td>\n",
       "      <td>1.0</td>\n",
       "      <td>2016-05-28</td>\n",
       "      <td>NaT</td>\n",
       "    </tr>\n",
       "    <tr>\n",
       "      <th>2</th>\n",
       "      <td>1439408</td>\n",
       "      <td>2632</td>\n",
       "      <td>8591.0</td>\n",
       "      <td>20:1</td>\n",
       "      <td>0.0</td>\n",
       "      <td>2016-02-17</td>\n",
       "      <td>NaT</td>\n",
       "    </tr>\n",
       "    <tr>\n",
       "      <th>3</th>\n",
       "      <td>1439408</td>\n",
       "      <td>2632</td>\n",
       "      <td>1078.0</td>\n",
       "      <td>20:1</td>\n",
       "      <td>0.0</td>\n",
       "      <td>2016-03-19</td>\n",
       "      <td>NaT</td>\n",
       "    </tr>\n",
       "    <tr>\n",
       "      <th>4</th>\n",
       "      <td>1439408</td>\n",
       "      <td>2632</td>\n",
       "      <td>8591.0</td>\n",
       "      <td>20:1</td>\n",
       "      <td>0.0</td>\n",
       "      <td>2016-06-13</td>\n",
       "      <td>NaT</td>\n",
       "    </tr>\n",
       "    <tr>\n",
       "      <th>...</th>\n",
       "      <td>...</td>\n",
       "      <td>...</td>\n",
       "      <td>...</td>\n",
       "      <td>...</td>\n",
       "      <td>...</td>\n",
       "      <td>...</td>\n",
       "      <td>...</td>\n",
       "    </tr>\n",
       "    <tr>\n",
       "      <th>1754879</th>\n",
       "      <td>212662</td>\n",
       "      <td>3532</td>\n",
       "      <td>NaN</td>\n",
       "      <td>null</td>\n",
       "      <td>1.0</td>\n",
       "      <td>NaT</td>\n",
       "      <td>2016-03-22</td>\n",
       "    </tr>\n",
       "    <tr>\n",
       "      <th>1754880</th>\n",
       "      <td>212662</td>\n",
       "      <td>3021</td>\n",
       "      <td>3739.0</td>\n",
       "      <td>30:1</td>\n",
       "      <td>6.0</td>\n",
       "      <td>2016-05-08</td>\n",
       "      <td>2016-06-02</td>\n",
       "    </tr>\n",
       "    <tr>\n",
       "      <th>1754881</th>\n",
       "      <td>212662</td>\n",
       "      <td>2934</td>\n",
       "      <td>NaN</td>\n",
       "      <td>null</td>\n",
       "      <td>2.0</td>\n",
       "      <td>NaT</td>\n",
       "      <td>2016-03-21</td>\n",
       "    </tr>\n",
       "    <tr>\n",
       "      <th>1754882</th>\n",
       "      <td>752472</td>\n",
       "      <td>7113</td>\n",
       "      <td>1633.0</td>\n",
       "      <td>50:10</td>\n",
       "      <td>6.0</td>\n",
       "      <td>2016-06-13</td>\n",
       "      <td>NaT</td>\n",
       "    </tr>\n",
       "    <tr>\n",
       "      <th>1754883</th>\n",
       "      <td>752472</td>\n",
       "      <td>3621</td>\n",
       "      <td>2705.0</td>\n",
       "      <td>20:5</td>\n",
       "      <td>0.0</td>\n",
       "      <td>2016-05-23</td>\n",
       "      <td>NaT</td>\n",
       "    </tr>\n",
       "  </tbody>\n",
       "</table>\n",
       "<p>1754884 rows × 7 columns</p>\n",
       "</div>"
      ],
      "text/plain": [
       "         User_id  Merchant_id  Coupon_id Discount_rate  Distance  \\\n",
       "0        1439408         2632        NaN          null       0.0   \n",
       "1        1439408         4663    11002.0        150:20       1.0   \n",
       "2        1439408         2632     8591.0          20:1       0.0   \n",
       "3        1439408         2632     1078.0          20:1       0.0   \n",
       "4        1439408         2632     8591.0          20:1       0.0   \n",
       "...          ...          ...        ...           ...       ...   \n",
       "1754879   212662         3532        NaN          null       1.0   \n",
       "1754880   212662         3021     3739.0          30:1       6.0   \n",
       "1754881   212662         2934        NaN          null       2.0   \n",
       "1754882   752472         7113     1633.0         50:10       6.0   \n",
       "1754883   752472         3621     2705.0          20:5       0.0   \n",
       "\n",
       "        Date_received       Date  \n",
       "0                 NaT 2016-02-17  \n",
       "1          2016-05-28        NaT  \n",
       "2          2016-02-17        NaT  \n",
       "3          2016-03-19        NaT  \n",
       "4          2016-06-13        NaT  \n",
       "...               ...        ...  \n",
       "1754879           NaT 2016-03-22  \n",
       "1754880    2016-05-08 2016-06-02  \n",
       "1754881           NaT 2016-03-21  \n",
       "1754882    2016-06-13        NaT  \n",
       "1754883    2016-05-23        NaT  \n",
       "\n",
       "[1754884 rows x 7 columns]"
      ]
     },
     "execution_count": 4,
     "metadata": {},
     "output_type": "execute_result"
    }
   ],
   "source": [
    "data.isnull().sum()   #如果是空值，True相当于1，所以相加之后就可以知道每一列有多少个空值\n",
    "#优惠券ID，折扣率，领券日期可能存在同时为空的情况。\n",
    "data['Discount_rate'] = data['Discount_rate'].fillna('null')\n",
    "data"
   ]
  },
  {
   "cell_type": "code",
   "execution_count": 5,
   "id": "782314bd-6f5c-4d24-800c-5426884e3181",
   "metadata": {},
   "outputs": [],
   "source": [
    "def discount_rate_opt(s):#s代码每一个元素\n",
    "    if ':' in s:\n",
    "        split = s.split(':')\n",
    "        discount_rate = (int(split[0])-int(split[1]))/int(split[0])\n",
    "        return round(discount_rate,2)  #返回的折扣率保留2位小数\n",
    "    elif s == 'null':\n",
    "        return np.NAN\n",
    "    else:\n",
    "        return float(s)"
   ]
  },
  {
   "cell_type": "code",
   "execution_count": 6,
   "id": "5aa872d2-b371-4fd9-b881-3b04bb184f1c",
   "metadata": {},
   "outputs": [
    {
     "data": {
      "text/html": [
       "<div>\n",
       "<style scoped>\n",
       "    .dataframe tbody tr th:only-of-type {\n",
       "        vertical-align: middle;\n",
       "    }\n",
       "\n",
       "    .dataframe tbody tr th {\n",
       "        vertical-align: top;\n",
       "    }\n",
       "\n",
       "    .dataframe thead th {\n",
       "        text-align: right;\n",
       "    }\n",
       "</style>\n",
       "<table border=\"1\" class=\"dataframe\">\n",
       "  <thead>\n",
       "    <tr style=\"text-align: right;\">\n",
       "      <th></th>\n",
       "      <th>User_id</th>\n",
       "      <th>Merchant_id</th>\n",
       "      <th>Coupon_id</th>\n",
       "      <th>Discount_rate</th>\n",
       "      <th>Distance</th>\n",
       "      <th>Date_received</th>\n",
       "      <th>Date</th>\n",
       "    </tr>\n",
       "  </thead>\n",
       "  <tbody>\n",
       "    <tr>\n",
       "      <th>0</th>\n",
       "      <td>1439408</td>\n",
       "      <td>2632</td>\n",
       "      <td>NaN</td>\n",
       "      <td>NaN</td>\n",
       "      <td>0.0</td>\n",
       "      <td>NaT</td>\n",
       "      <td>2016-02-17</td>\n",
       "    </tr>\n",
       "    <tr>\n",
       "      <th>1</th>\n",
       "      <td>1439408</td>\n",
       "      <td>4663</td>\n",
       "      <td>11002.0</td>\n",
       "      <td>0.87</td>\n",
       "      <td>1.0</td>\n",
       "      <td>2016-05-28</td>\n",
       "      <td>NaT</td>\n",
       "    </tr>\n",
       "    <tr>\n",
       "      <th>2</th>\n",
       "      <td>1439408</td>\n",
       "      <td>2632</td>\n",
       "      <td>8591.0</td>\n",
       "      <td>0.95</td>\n",
       "      <td>0.0</td>\n",
       "      <td>2016-02-17</td>\n",
       "      <td>NaT</td>\n",
       "    </tr>\n",
       "    <tr>\n",
       "      <th>3</th>\n",
       "      <td>1439408</td>\n",
       "      <td>2632</td>\n",
       "      <td>1078.0</td>\n",
       "      <td>0.95</td>\n",
       "      <td>0.0</td>\n",
       "      <td>2016-03-19</td>\n",
       "      <td>NaT</td>\n",
       "    </tr>\n",
       "    <tr>\n",
       "      <th>4</th>\n",
       "      <td>1439408</td>\n",
       "      <td>2632</td>\n",
       "      <td>8591.0</td>\n",
       "      <td>0.95</td>\n",
       "      <td>0.0</td>\n",
       "      <td>2016-06-13</td>\n",
       "      <td>NaT</td>\n",
       "    </tr>\n",
       "    <tr>\n",
       "      <th>...</th>\n",
       "      <td>...</td>\n",
       "      <td>...</td>\n",
       "      <td>...</td>\n",
       "      <td>...</td>\n",
       "      <td>...</td>\n",
       "      <td>...</td>\n",
       "      <td>...</td>\n",
       "    </tr>\n",
       "    <tr>\n",
       "      <th>1754879</th>\n",
       "      <td>212662</td>\n",
       "      <td>3532</td>\n",
       "      <td>NaN</td>\n",
       "      <td>NaN</td>\n",
       "      <td>1.0</td>\n",
       "      <td>NaT</td>\n",
       "      <td>2016-03-22</td>\n",
       "    </tr>\n",
       "    <tr>\n",
       "      <th>1754880</th>\n",
       "      <td>212662</td>\n",
       "      <td>3021</td>\n",
       "      <td>3739.0</td>\n",
       "      <td>0.97</td>\n",
       "      <td>6.0</td>\n",
       "      <td>2016-05-08</td>\n",
       "      <td>2016-06-02</td>\n",
       "    </tr>\n",
       "    <tr>\n",
       "      <th>1754881</th>\n",
       "      <td>212662</td>\n",
       "      <td>2934</td>\n",
       "      <td>NaN</td>\n",
       "      <td>NaN</td>\n",
       "      <td>2.0</td>\n",
       "      <td>NaT</td>\n",
       "      <td>2016-03-21</td>\n",
       "    </tr>\n",
       "    <tr>\n",
       "      <th>1754882</th>\n",
       "      <td>752472</td>\n",
       "      <td>7113</td>\n",
       "      <td>1633.0</td>\n",
       "      <td>0.80</td>\n",
       "      <td>6.0</td>\n",
       "      <td>2016-06-13</td>\n",
       "      <td>NaT</td>\n",
       "    </tr>\n",
       "    <tr>\n",
       "      <th>1754883</th>\n",
       "      <td>752472</td>\n",
       "      <td>3621</td>\n",
       "      <td>2705.0</td>\n",
       "      <td>0.75</td>\n",
       "      <td>0.0</td>\n",
       "      <td>2016-05-23</td>\n",
       "      <td>NaT</td>\n",
       "    </tr>\n",
       "  </tbody>\n",
       "</table>\n",
       "<p>1754884 rows × 7 columns</p>\n",
       "</div>"
      ],
      "text/plain": [
       "         User_id  Merchant_id  Coupon_id  Discount_rate  Distance  \\\n",
       "0        1439408         2632        NaN            NaN       0.0   \n",
       "1        1439408         4663    11002.0           0.87       1.0   \n",
       "2        1439408         2632     8591.0           0.95       0.0   \n",
       "3        1439408         2632     1078.0           0.95       0.0   \n",
       "4        1439408         2632     8591.0           0.95       0.0   \n",
       "...          ...          ...        ...            ...       ...   \n",
       "1754879   212662         3532        NaN            NaN       1.0   \n",
       "1754880   212662         3021     3739.0           0.97       6.0   \n",
       "1754881   212662         2934        NaN            NaN       2.0   \n",
       "1754882   752472         7113     1633.0           0.80       6.0   \n",
       "1754883   752472         3621     2705.0           0.75       0.0   \n",
       "\n",
       "        Date_received       Date  \n",
       "0                 NaT 2016-02-17  \n",
       "1          2016-05-28        NaT  \n",
       "2          2016-02-17        NaT  \n",
       "3          2016-03-19        NaT  \n",
       "4          2016-06-13        NaT  \n",
       "...               ...        ...  \n",
       "1754879           NaT 2016-03-22  \n",
       "1754880    2016-05-08 2016-06-02  \n",
       "1754881           NaT 2016-03-21  \n",
       "1754882    2016-06-13        NaT  \n",
       "1754883    2016-05-23        NaT  \n",
       "\n",
       "[1754884 rows x 7 columns]"
      ]
     },
     "execution_count": 6,
     "metadata": {},
     "output_type": "execute_result"
    }
   ],
   "source": [
    "#对折扣数据进行数据转化，把discount_rate列中的满减转化为折扣率\n",
    "data['Discount_rate'] = data['Discount_rate'].map(discount_rate_opt)\n",
    "data"
   ]
  },
  {
   "cell_type": "markdown",
   "id": "6c061493-dd35-4641-8a7a-cc4b5d731c33",
   "metadata": {},
   "source": [
    "## 2.2 Coupon_id字段，null代表无优惠券，此时Discount_rate以及Date_received字段无意义\n",
    "## 检查Coupon_id和Discount_rate与Date_received判断空值与非空值是否一一对应"
   ]
  },
  {
   "cell_type": "code",
   "execution_count": 7,
   "id": "5412e098-1132-4021-92ae-7e3e4e131180",
   "metadata": {},
   "outputs": [],
   "source": [
    "#np.all()判断一个迭代数据中是否都为True,如果是则返回True，如果不是返回False"
   ]
  },
  {
   "cell_type": "code",
   "execution_count": 8,
   "id": "50c37fe3-8325-4cec-9665-2efc1c440226",
   "metadata": {},
   "outputs": [
    {
     "data": {
      "text/plain": [
       "True"
      ]
     },
     "execution_count": 8,
     "metadata": {},
     "output_type": "execute_result"
    }
   ],
   "source": [
    "nan1 = data['Coupon_id'].isnull()  #判断优惠券是否为空\n",
    "nan2 = data['Date_received'].isnull() #判断领券日期是否为空\n",
    "nan3 = data['Date_received']\n",
    "np.all(nan1 == nan2) "
   ]
  },
  {
   "cell_type": "code",
   "execution_count": 9,
   "id": "d6ab040d-1cf1-4bce-8777-da0f95ca4e39",
   "metadata": {},
   "outputs": [],
   "source": [
    "#np.all的结果为True，说明这两列数据存在一一对应关系，即都为空值或都不为空值"
   ]
  },
  {
   "cell_type": "code",
   "execution_count": 10,
   "id": "62592bb3-f924-4799-bb9d-d1d67358be20",
   "metadata": {},
   "outputs": [
    {
     "data": {
      "text/plain": [
       "False"
      ]
     },
     "execution_count": 10,
     "metadata": {},
     "output_type": "execute_result"
    }
   ],
   "source": [
    "np.all(nan1 == nan3)"
   ]
  },
  {
   "cell_type": "markdown",
   "id": "05b184ab-0723-4aee-a835-b7e947ea7ddb",
   "metadata": {},
   "source": [
    "### 2.3\n",
    "如果Date ==null & Coupon_id!=null，优惠券未消费(no_consume)\n",
    "如果Date=null&Coupon_id = null,无券无消费(no_coupon_no_consume)\n",
    "如果Date!=null&Coupon_id = null，无券有消费(no_coupon)\n",
    "如果Date!=null&Coupon_id!=null,有券有消费(coupon_consume)\n"
   ]
  },
  {
   "cell_type": "code",
   "execution_count": 11,
   "id": "0f268943-6208-4a8c-801b-c79760cf1684",
   "metadata": {},
   "outputs": [],
   "source": [
    "ncon = data[(~data['Coupon_id'].isnull())&(data['Date'].isnull())]\n",
    "ncncon = data[(data['Coupon_id'].isnull())&(data['Date'].isnull())]\n",
    "nc = data[(data['Coupon_id'].isnull())&(~data['Date'].isnull())]\n",
    "cc = data[(~data['Coupon_id'].isnull())&(~data['Date'].isnull())]"
   ]
  },
  {
   "cell_type": "code",
   "execution_count": 12,
   "id": "7448e237-403b-4629-b414-1b25fd703c97",
   "metadata": {},
   "outputs": [
    {
     "name": "stdout",
     "output_type": "stream",
     "text": [
      "有券未消费:977900\n",
      "无券未消费:0\n",
      "无券有消费:701602\n",
      "有券有消费:75382\n"
     ]
    }
   ],
   "source": [
    "print('有券未消费:{}'.format(len(ncon)))\n",
    "print('无券未消费:{}'.format(len(ncncon)))\n",
    "print('无券有消费:{}'.format(len(nc)))\n",
    "print('有券有消费:{}'.format(len(cc)))"
   ]
  },
  {
   "cell_type": "code",
   "execution_count": 13,
   "id": "c36163ea-031a-4f45-96d0-47e41bc381c2",
   "metadata": {},
   "outputs": [
    {
     "data": {
      "text/plain": [
       "ncon    977900\n",
       "nc      701602\n",
       "cc       75382\n",
       "dtype: int64"
      ]
     },
     "execution_count": 13,
     "metadata": {},
     "output_type": "execute_result"
    }
   ],
   "source": [
    "consume_status_dict = {'ncon':len(ncon),'nc':len(nc),'cc':len(cc)}\n",
    "consume_status = pd.Series(consume_status_dict)\n",
    "consume_status"
   ]
  },
  {
   "cell_type": "code",
   "execution_count": 14,
   "id": "25563b91-835a-4d2e-a223-5c05344da661",
   "metadata": {},
   "outputs": [
    {
     "data": {
      "text/plain": [
       "<Axes: >"
      ]
     },
     "execution_count": 14,
     "metadata": {},
     "output_type": "execute_result"
    },
    {
     "data": {
      "image/png": "[encoded data removed]",
      "text/plain": [
       "<Figure size 800x1000 with 1 Axes>"
      ]
     },
     "metadata": {},
     "output_type": "display_data"
    }
   ],
   "source": [
    "fig,ax = plt.subplots(1,1,figsize=(8,10))\n",
    "consume_status.plot.pie(ax=ax,autopct=\"%1.1f%%\",shadow =True,explode=[0.02,0.05,0.2],textprops = {'fontsize':15,'color':'blue'})"
   ]
  },
  {
   "cell_type": "code",
   "execution_count": 15,
   "id": "408c3c5f-a655-40e4-a299-66a90e87d509",
   "metadata": {},
   "outputs": [],
   "source": [
    "#有券未消费占比55.7%，说明大多数人拿完优惠券后尚未使用\n",
    "#无券消费用户占比40%，说明很多人没有使用优惠券，可能优惠券吸引力不大，客户不在意，或者是新用户比较多。\n",
    "#用券消费用户占比4.3%，说明优惠券使用率不高，可以考虑加大优惠力度。"
   ]
  },
  {
   "cell_type": "markdown",
   "id": "d077a0a4-c236-451a-b570-dffb8f862e67",
   "metadata": {},
   "source": [
    "# 3.在有券消费人群中，分析距离和优惠折扣力度，以及折后平均"
   ]
  },
  {
   "cell_type": "markdown",
   "id": "34bb90f8-ba08-4844-b955-5d8a77636b60",
   "metadata": {},
   "source": [
    "3.1"
   ]
  },
  {
   "cell_type": "code",
   "execution_count": 16,
   "id": "317ec952-f867-442e-8e85-4f31fa3d688b",
   "metadata": {},
   "outputs": [
    {
     "data": {
      "text/html": [
       "<div>\n",
       "<style scoped>\n",
       "    .dataframe tbody tr th:only-of-type {\n",
       "        vertical-align: middle;\n",
       "    }\n",
       "\n",
       "    .dataframe tbody tr th {\n",
       "        vertical-align: top;\n",
       "    }\n",
       "\n",
       "    .dataframe thead th {\n",
       "        text-align: right;\n",
       "    }\n",
       "</style>\n",
       "<table border=\"1\" class=\"dataframe\">\n",
       "  <thead>\n",
       "    <tr style=\"text-align: right;\">\n",
       "      <th></th>\n",
       "      <th>User_id</th>\n",
       "      <th>Merchant_id</th>\n",
       "      <th>Coupon_id</th>\n",
       "      <th>Discount_rate</th>\n",
       "      <th>Distance</th>\n",
       "      <th>Date_received</th>\n",
       "      <th>Date</th>\n",
       "    </tr>\n",
       "  </thead>\n",
       "  <tbody>\n",
       "    <tr>\n",
       "      <th>0</th>\n",
       "      <td>1439408</td>\n",
       "      <td>2632</td>\n",
       "      <td>NaN</td>\n",
       "      <td>NaN</td>\n",
       "      <td>0.0</td>\n",
       "      <td>NaT</td>\n",
       "      <td>2016-02-17</td>\n",
       "    </tr>\n",
       "    <tr>\n",
       "      <th>1</th>\n",
       "      <td>1439408</td>\n",
       "      <td>4663</td>\n",
       "      <td>11002.0</td>\n",
       "      <td>0.87</td>\n",
       "      <td>1.0</td>\n",
       "      <td>2016-05-28</td>\n",
       "      <td>NaT</td>\n",
       "    </tr>\n",
       "    <tr>\n",
       "      <th>2</th>\n",
       "      <td>1439408</td>\n",
       "      <td>2632</td>\n",
       "      <td>8591.0</td>\n",
       "      <td>0.95</td>\n",
       "      <td>0.0</td>\n",
       "      <td>2016-02-17</td>\n",
       "      <td>NaT</td>\n",
       "    </tr>\n",
       "    <tr>\n",
       "      <th>3</th>\n",
       "      <td>1439408</td>\n",
       "      <td>2632</td>\n",
       "      <td>1078.0</td>\n",
       "      <td>0.95</td>\n",
       "      <td>0.0</td>\n",
       "      <td>2016-03-19</td>\n",
       "      <td>NaT</td>\n",
       "    </tr>\n",
       "    <tr>\n",
       "      <th>4</th>\n",
       "      <td>1439408</td>\n",
       "      <td>2632</td>\n",
       "      <td>8591.0</td>\n",
       "      <td>0.95</td>\n",
       "      <td>0.0</td>\n",
       "      <td>2016-06-13</td>\n",
       "      <td>NaT</td>\n",
       "    </tr>\n",
       "    <tr>\n",
       "      <th>...</th>\n",
       "      <td>...</td>\n",
       "      <td>...</td>\n",
       "      <td>...</td>\n",
       "      <td>...</td>\n",
       "      <td>...</td>\n",
       "      <td>...</td>\n",
       "      <td>...</td>\n",
       "    </tr>\n",
       "    <tr>\n",
       "      <th>1754879</th>\n",
       "      <td>212662</td>\n",
       "      <td>3532</td>\n",
       "      <td>NaN</td>\n",
       "      <td>NaN</td>\n",
       "      <td>1.0</td>\n",
       "      <td>NaT</td>\n",
       "      <td>2016-03-22</td>\n",
       "    </tr>\n",
       "    <tr>\n",
       "      <th>1754880</th>\n",
       "      <td>212662</td>\n",
       "      <td>3021</td>\n",
       "      <td>3739.0</td>\n",
       "      <td>0.97</td>\n",
       "      <td>6.0</td>\n",
       "      <td>2016-05-08</td>\n",
       "      <td>2016-06-02</td>\n",
       "    </tr>\n",
       "    <tr>\n",
       "      <th>1754881</th>\n",
       "      <td>212662</td>\n",
       "      <td>2934</td>\n",
       "      <td>NaN</td>\n",
       "      <td>NaN</td>\n",
       "      <td>2.0</td>\n",
       "      <td>NaT</td>\n",
       "      <td>2016-03-21</td>\n",
       "    </tr>\n",
       "    <tr>\n",
       "      <th>1754882</th>\n",
       "      <td>752472</td>\n",
       "      <td>7113</td>\n",
       "      <td>1633.0</td>\n",
       "      <td>0.80</td>\n",
       "      <td>6.0</td>\n",
       "      <td>2016-06-13</td>\n",
       "      <td>NaT</td>\n",
       "    </tr>\n",
       "    <tr>\n",
       "      <th>1754883</th>\n",
       "      <td>752472</td>\n",
       "      <td>3621</td>\n",
       "      <td>2705.0</td>\n",
       "      <td>0.75</td>\n",
       "      <td>0.0</td>\n",
       "      <td>2016-05-23</td>\n",
       "      <td>NaT</td>\n",
       "    </tr>\n",
       "  </tbody>\n",
       "</table>\n",
       "<p>1754884 rows × 7 columns</p>\n",
       "</div>"
      ],
      "text/plain": [
       "         User_id  Merchant_id  Coupon_id  Discount_rate  Distance  \\\n",
       "0        1439408         2632        NaN            NaN       0.0   \n",
       "1        1439408         4663    11002.0           0.87       1.0   \n",
       "2        1439408         2632     8591.0           0.95       0.0   \n",
       "3        1439408         2632     1078.0           0.95       0.0   \n",
       "4        1439408         2632     8591.0           0.95       0.0   \n",
       "...          ...          ...        ...            ...       ...   \n",
       "1754879   212662         3532        NaN            NaN       1.0   \n",
       "1754880   212662         3021     3739.0           0.97       6.0   \n",
       "1754881   212662         2934        NaN            NaN       2.0   \n",
       "1754882   752472         7113     1633.0           0.80       6.0   \n",
       "1754883   752472         3621     2705.0           0.75       0.0   \n",
       "\n",
       "        Date_received       Date  \n",
       "0                 NaT 2016-02-17  \n",
       "1          2016-05-28        NaT  \n",
       "2          2016-02-17        NaT  \n",
       "3          2016-03-19        NaT  \n",
       "4          2016-06-13        NaT  \n",
       "...               ...        ...  \n",
       "1754879           NaT 2016-03-22  \n",
       "1754880    2016-05-08 2016-06-02  \n",
       "1754881           NaT 2016-03-21  \n",
       "1754882    2016-06-13        NaT  \n",
       "1754883    2016-05-23        NaT  \n",
       "\n",
       "[1754884 rows x 7 columns]"
      ]
     },
     "execution_count": 16,
     "metadata": {},
     "output_type": "execute_result"
    }
   ],
   "source": [
    "data"
   ]
  },
  {
   "cell_type": "code",
   "execution_count": 17,
   "id": "ec1439c6-0563-4f1e-8913-c98a5db47007",
   "metadata": {},
   "outputs": [
    {
     "data": {
      "text/plain": [
       "Merchant_id\n",
       "1       0.000000\n",
       "2       6.181818\n",
       "3       5.375000\n",
       "4       0.000000\n",
       "5       1.493151\n",
       "          ...   \n",
       "8852    0.750000\n",
       "8853    3.200000\n",
       "8854    1.100000\n",
       "8855    1.000000\n",
       "8856    0.068548\n",
       "Name: Distance, Length: 8415, dtype: float64"
      ]
     },
     "execution_count": 17,
     "metadata": {},
     "output_type": "execute_result"
    }
   ],
   "source": [
    "df1 = data.groupby('Merchant_id')['Distance'].mean() #各个商家对应的顾客到店平均距离\n",
    "df1"
   ]
  },
  {
   "cell_type": "code",
   "execution_count": 18,
   "id": "837f98a1-eba9-4712-9315-9b2652687dce",
   "metadata": {},
   "outputs": [
    {
     "data": {
      "text/plain": [
       "Merchant_id\n",
       "1       0.0\n",
       "4       0.0\n",
       "9       0.0\n",
       "10      0.0\n",
       "14      0.0\n",
       "       ... \n",
       "8806    0.0\n",
       "8814    0.0\n",
       "8838    0.0\n",
       "8846    0.0\n",
       "8849    0.0\n",
       "Name: Distance, Length: 984, dtype: float64"
      ]
     },
     "execution_count": 18,
     "metadata": {},
     "output_type": "execute_result"
    }
   ],
   "source": [
    "df1[df1==0]"
   ]
  },
  {
   "cell_type": "code",
   "execution_count": 19,
   "id": "80c7a0e2-85a6-4631-b7c7-5e3b3ea0cf84",
   "metadata": {},
   "outputs": [
    {
     "data": {
      "text/plain": [
       "count    5599.000000\n",
       "mean        0.888638\n",
       "std         0.084917\n",
       "min         0.200000\n",
       "25%         0.836251\n",
       "50%         0.900000\n",
       "75%         0.950000\n",
       "max         0.990000\n",
       "Name: Discount_rate, dtype: float64"
      ]
     },
     "execution_count": 19,
     "metadata": {},
     "output_type": "execute_result"
    }
   ],
   "source": [
    "#各商家对应的顾客到店消费平均折扣力度\n",
    "df2 = data.groupby('Merchant_id')['Discount_rate'].mean() \n",
    "df2.describe() #可以看到所有商家的平均折扣是88折"
   ]
  },
  {
   "cell_type": "code",
   "execution_count": 20,
   "id": "3e2c780c-97e4-4a8b-a339-69986f509b9b",
   "metadata": {},
   "outputs": [
    {
     "data": {
      "text/plain": [
       "<Axes: ylabel='Frequency'>"
      ]
     },
     "execution_count": 20,
     "metadata": {},
     "output_type": "execute_result"
    },
    {
     "data": {
      "image/png": "[encoded data removed]",
      "text/plain": [
       "<Figure size 640x480 with 1 Axes>"
      ]
     },
     "metadata": {},
     "output_type": "display_data"
    }
   ],
   "source": [
    "df2.plot.hist(bins=20) #大部分商家都是8~9折"
   ]
  },
  {
   "cell_type": "markdown",
   "id": "1c7620ef-5ca1-492e-aee4-4ae1915899d0",
   "metadata": {},
   "source": [
    "3.2持券到店消费人数最多的商家"
   ]
  },
  {
   "cell_type": "code",
   "execution_count": 21,
   "id": "f1141f96-9275-4dd0-bd86-fcb6ff1f3307",
   "metadata": {},
   "outputs": [
    {
     "data": {
      "text/html": [
       "<div>\n",
       "<style scoped>\n",
       "    .dataframe tbody tr th:only-of-type {\n",
       "        vertical-align: middle;\n",
       "    }\n",
       "\n",
       "    .dataframe tbody tr th {\n",
       "        vertical-align: top;\n",
       "    }\n",
       "\n",
       "    .dataframe thead th {\n",
       "        text-align: right;\n",
       "    }\n",
       "</style>\n",
       "<table border=\"1\" class=\"dataframe\">\n",
       "  <thead>\n",
       "    <tr style=\"text-align: right;\">\n",
       "      <th></th>\n",
       "      <th>User_id</th>\n",
       "      <th>Merchant_id</th>\n",
       "      <th>Coupon_id</th>\n",
       "      <th>Discount_rate</th>\n",
       "      <th>Distance</th>\n",
       "      <th>Date_received</th>\n",
       "      <th>Date</th>\n",
       "    </tr>\n",
       "  </thead>\n",
       "  <tbody>\n",
       "    <tr>\n",
       "      <th>6</th>\n",
       "      <td>1439408</td>\n",
       "      <td>2632</td>\n",
       "      <td>8591.0</td>\n",
       "      <td>0.95</td>\n",
       "      <td>0.0</td>\n",
       "      <td>2016-05-16</td>\n",
       "      <td>2016-06-13</td>\n",
       "    </tr>\n",
       "    <tr>\n",
       "      <th>33</th>\n",
       "      <td>1113008</td>\n",
       "      <td>1361</td>\n",
       "      <td>11166.0</td>\n",
       "      <td>0.95</td>\n",
       "      <td>0.0</td>\n",
       "      <td>2016-05-15</td>\n",
       "      <td>2016-05-21</td>\n",
       "    </tr>\n",
       "    <tr>\n",
       "      <th>38</th>\n",
       "      <td>2881376</td>\n",
       "      <td>8390</td>\n",
       "      <td>7531.0</td>\n",
       "      <td>0.75</td>\n",
       "      <td>0.0</td>\n",
       "      <td>2016-03-21</td>\n",
       "      <td>2016-03-29</td>\n",
       "    </tr>\n",
       "    <tr>\n",
       "      <th>69</th>\n",
       "      <td>114747</td>\n",
       "      <td>6901</td>\n",
       "      <td>2366.0</td>\n",
       "      <td>0.83</td>\n",
       "      <td>0.0</td>\n",
       "      <td>2016-05-23</td>\n",
       "      <td>2016-06-05</td>\n",
       "    </tr>\n",
       "    <tr>\n",
       "      <th>75</th>\n",
       "      <td>114747</td>\n",
       "      <td>5341</td>\n",
       "      <td>111.0</td>\n",
       "      <td>0.83</td>\n",
       "      <td>0.0</td>\n",
       "      <td>2016-01-27</td>\n",
       "      <td>2016-02-21</td>\n",
       "    </tr>\n",
       "    <tr>\n",
       "      <th>...</th>\n",
       "      <td>...</td>\n",
       "      <td>...</td>\n",
       "      <td>...</td>\n",
       "      <td>...</td>\n",
       "      <td>...</td>\n",
       "      <td>...</td>\n",
       "      <td>...</td>\n",
       "    </tr>\n",
       "    <tr>\n",
       "      <th>1754833</th>\n",
       "      <td>1437872</td>\n",
       "      <td>7706</td>\n",
       "      <td>416.0</td>\n",
       "      <td>0.90</td>\n",
       "      <td>4.0</td>\n",
       "      <td>2016-01-29</td>\n",
       "      <td>2016-02-02</td>\n",
       "    </tr>\n",
       "    <tr>\n",
       "      <th>1754873</th>\n",
       "      <td>212662</td>\n",
       "      <td>2934</td>\n",
       "      <td>5686.0</td>\n",
       "      <td>0.83</td>\n",
       "      <td>2.0</td>\n",
       "      <td>2016-03-21</td>\n",
       "      <td>2016-03-30</td>\n",
       "    </tr>\n",
       "    <tr>\n",
       "      <th>1754877</th>\n",
       "      <td>212662</td>\n",
       "      <td>3021</td>\n",
       "      <td>3739.0</td>\n",
       "      <td>0.97</td>\n",
       "      <td>6.0</td>\n",
       "      <td>2016-05-04</td>\n",
       "      <td>2016-05-08</td>\n",
       "    </tr>\n",
       "    <tr>\n",
       "      <th>1754878</th>\n",
       "      <td>212662</td>\n",
       "      <td>2934</td>\n",
       "      <td>5686.0</td>\n",
       "      <td>0.83</td>\n",
       "      <td>2.0</td>\n",
       "      <td>2016-03-21</td>\n",
       "      <td>2016-03-22</td>\n",
       "    </tr>\n",
       "    <tr>\n",
       "      <th>1754880</th>\n",
       "      <td>212662</td>\n",
       "      <td>3021</td>\n",
       "      <td>3739.0</td>\n",
       "      <td>0.97</td>\n",
       "      <td>6.0</td>\n",
       "      <td>2016-05-08</td>\n",
       "      <td>2016-06-02</td>\n",
       "    </tr>\n",
       "  </tbody>\n",
       "</table>\n",
       "<p>75382 rows × 7 columns</p>\n",
       "</div>"
      ],
      "text/plain": [
       "         User_id  Merchant_id  Coupon_id  Discount_rate  Distance  \\\n",
       "6        1439408         2632     8591.0           0.95       0.0   \n",
       "33       1113008         1361    11166.0           0.95       0.0   \n",
       "38       2881376         8390     7531.0           0.75       0.0   \n",
       "69        114747         6901     2366.0           0.83       0.0   \n",
       "75        114747         5341      111.0           0.83       0.0   \n",
       "...          ...          ...        ...            ...       ...   \n",
       "1754833  1437872         7706      416.0           0.90       4.0   \n",
       "1754873   212662         2934     5686.0           0.83       2.0   \n",
       "1754877   212662         3021     3739.0           0.97       6.0   \n",
       "1754878   212662         2934     5686.0           0.83       2.0   \n",
       "1754880   212662         3021     3739.0           0.97       6.0   \n",
       "\n",
       "        Date_received       Date  \n",
       "6          2016-05-16 2016-06-13  \n",
       "33         2016-05-15 2016-05-21  \n",
       "38         2016-03-21 2016-03-29  \n",
       "69         2016-05-23 2016-06-05  \n",
       "75         2016-01-27 2016-02-21  \n",
       "...               ...        ...  \n",
       "1754833    2016-01-29 2016-02-02  \n",
       "1754873    2016-03-21 2016-03-30  \n",
       "1754877    2016-05-04 2016-05-08  \n",
       "1754878    2016-03-21 2016-03-22  \n",
       "1754880    2016-05-08 2016-06-02  \n",
       "\n",
       "[75382 rows x 7 columns]"
      ]
     },
     "execution_count": 21,
     "metadata": {},
     "output_type": "execute_result"
    }
   ],
   "source": [
    "#先筛选持券消费人的信息,对用户ID进行去重统计数量\n",
    "data1 = data[(~data['Coupon_id'].isnull())&(~data['Date'].isnull())]\n",
    "data1"
   ]
  },
  {
   "cell_type": "code",
   "execution_count": 22,
   "id": "2f433f5d-30cd-44aa-9b6b-665de6df82d7",
   "metadata": {},
   "outputs": [
    {
     "data": {
      "text/plain": [
       "Merchant_id\n",
       "3        1\n",
       "4        2\n",
       "5        3\n",
       "13       1\n",
       "14       1\n",
       "        ..\n",
       "8844    12\n",
       "8849     1\n",
       "8850     3\n",
       "8852     1\n",
       "8856     2\n",
       "Name: User_id, Length: 4076, dtype: int64"
      ]
     },
     "execution_count": 22,
     "metadata": {},
     "output_type": "execute_result"
    }
   ],
   "source": [
    "df3 = data1.groupby('Merchant_id')['User_id'].apply(lambda x:len(x.unique()))\n",
    "df3"
   ]
  },
  {
   "cell_type": "code",
   "execution_count": 23,
   "id": "cbbe8a37-6728-4aa9-9f44-9a087f024c35",
   "metadata": {},
   "outputs": [
    {
     "data": {
      "text/plain": [
       "Merchant_id\n",
       "3          1\n",
       "2810       1\n",
       "2807       1\n",
       "2795       1\n",
       "2791       1\n",
       "        ... \n",
       "2099    1401\n",
       "6485    2029\n",
       "3381    2248\n",
       "760     2627\n",
       "5341    2800\n",
       "Name: User_id, Length: 4076, dtype: int64"
      ]
     },
     "execution_count": 23,
     "metadata": {},
     "output_type": "execute_result"
    }
   ],
   "source": [
    "df3.sort_values()"
   ]
  },
  {
   "cell_type": "code",
   "execution_count": 24,
   "id": "e9475689-16cb-44f9-ae38-816ee81ac4d4",
   "metadata": {},
   "outputs": [
    {
     "data": {
      "text/plain": [
       "count    4076.000000\n",
       "mean       12.379539\n",
       "std        95.824200\n",
       "min         1.000000\n",
       "25%         1.000000\n",
       "50%         2.000000\n",
       "75%         4.000000\n",
       "max      2800.000000\n",
       "Name: User_id, dtype: float64"
      ]
     },
     "execution_count": 24,
     "metadata": {},
     "output_type": "execute_result"
    }
   ],
   "source": [
    "df3.describe()"
   ]
  },
  {
   "cell_type": "code",
   "execution_count": 25,
   "id": "a08a97da-61ae-489c-b47b-cca2988265a0",
   "metadata": {},
   "outputs": [
    {
     "data": {
      "text/plain": [
       "Merchant_id\n",
       "5341    2800\n",
       "760     2627\n",
       "3381    2248\n",
       "6485    2029\n",
       "2099    1401\n",
       "2934    1310\n",
       "450     1094\n",
       "3532     968\n",
       "7555     925\n",
       "1520     870\n",
       "6901     855\n",
       "3621     851\n",
       "4142     832\n",
       "1379     587\n",
       "1469     584\n",
       "1433     559\n",
       "Name: User_id, dtype: int64"
      ]
     },
     "execution_count": 25,
     "metadata": {},
     "output_type": "execute_result"
    }
   ],
   "source": [
    "df500 = df3[df3>500] #过滤出持券消费人数>500的商家id\n",
    "df500.sort_values(ascending = False)"
   ]
  },
  {
   "cell_type": "code",
   "execution_count": 26,
   "id": "a993cbc5-65c4-4e53-a6bc-a90d1696356a",
   "metadata": {},
   "outputs": [
    {
     "data": {
      "text/plain": [
       "16"
      ]
     },
     "execution_count": 26,
     "metadata": {},
     "output_type": "execute_result"
    }
   ],
   "source": [
    "len(df500) #共有16家店铺持券消费人数在500人以上"
   ]
  },
  {
   "cell_type": "code",
   "execution_count": 27,
   "id": "e933d23f-df08-47c6-be3e-db273ebf8b59",
   "metadata": {},
   "outputs": [
    {
     "data": {
      "text/plain": [
       "array([ 450,  760, 1379, 1433, 1469, 1520, 2099, 2934, 3381, 3532, 3621,\n",
       "       4142, 5341, 6485, 6901, 7555], dtype=int64)"
      ]
     },
     "execution_count": 27,
     "metadata": {},
     "output_type": "execute_result"
    }
   ],
   "source": [
    "df500.index.values"
   ]
  },
  {
   "cell_type": "markdown",
   "id": "d1849c0f-c276-4789-829d-68a93c69b1f1",
   "metadata": {},
   "source": [
    "这批商家对优惠券的使用方法得当，消费者喜欢用优惠券进行消费，可以适当借鉴这批商家的推广力度"
   ]
  },
  {
   "cell_type": "markdown",
   "id": "f124944f-bd65-40cf-b5ae-283df93ef9b7",
   "metadata": {},
   "source": [
    "3.3持券消费人数在500人以上的商家，连接顾客到店平均距离和平均折扣力度"
   ]
  },
  {
   "cell_type": "code",
   "execution_count": 28,
   "id": "a29485f6-bab5-46f5-8ecb-04d19aca9428",
   "metadata": {},
   "outputs": [
    {
     "data": {
      "text/plain": [
       "Merchant_id\n",
       "450     1094\n",
       "760     2627\n",
       "1379     587\n",
       "1433     559\n",
       "1469     584\n",
       "1520     870\n",
       "2099    1401\n",
       "2934    1310\n",
       "3381    2248\n",
       "3532     968\n",
       "3621     851\n",
       "4142     832\n",
       "5341    2800\n",
       "6485    2029\n",
       "6901     855\n",
       "7555     925\n",
       "Name: User_id, dtype: int64"
      ]
     },
     "execution_count": 28,
     "metadata": {},
     "output_type": "execute_result"
    }
   ],
   "source": [
    "#merge\n",
    "df500"
   ]
  },
  {
   "cell_type": "code",
   "execution_count": 29,
   "id": "562f229d-f961-4a23-b2bf-e54633b1aed4",
   "metadata": {},
   "outputs": [],
   "source": [
    "df500.name = 'customer_num'"
   ]
  },
  {
   "cell_type": "code",
   "execution_count": 30,
   "id": "dae1dd65-b6ac-44a2-9c05-6da90fc82365",
   "metadata": {},
   "outputs": [
    {
     "data": {
      "text/plain": [
       "Merchant_id\n",
       "1            NaN\n",
       "2       0.800000\n",
       "3       0.670000\n",
       "4       0.830000\n",
       "5       0.750000\n",
       "          ...   \n",
       "8852    0.950000\n",
       "8853         NaN\n",
       "8854    0.950000\n",
       "8855         NaN\n",
       "8856    0.943421\n",
       "Name: Discount_rate, Length: 8415, dtype: float64"
      ]
     },
     "execution_count": 30,
     "metadata": {},
     "output_type": "execute_result"
    }
   ],
   "source": [
    "df2"
   ]
  },
  {
   "cell_type": "code",
   "execution_count": 31,
   "id": "6cebd6e5-c824-4b22-913b-dfeffa1d37ec",
   "metadata": {},
   "outputs": [
    {
     "data": {
      "text/plain": [
       "Merchant_id\n",
       "1       0.000000\n",
       "2       6.181818\n",
       "3       5.375000\n",
       "4       0.000000\n",
       "5       1.493151\n",
       "          ...   \n",
       "8852    0.750000\n",
       "8853    3.200000\n",
       "8854    1.100000\n",
       "8855    1.000000\n",
       "8856    0.068548\n",
       "Name: Distance, Length: 8415, dtype: float64"
      ]
     },
     "execution_count": 31,
     "metadata": {},
     "output_type": "execute_result"
    }
   ],
   "source": [
    "df1"
   ]
  },
  {
   "cell_type": "code",
   "execution_count": 32,
   "id": "490e191c-4320-4b76-a139-36c2ac682e08",
   "metadata": {},
   "outputs": [
    {
     "data": {
      "text/html": [
       "<div>\n",
       "<style scoped>\n",
       "    .dataframe tbody tr th:only-of-type {\n",
       "        vertical-align: middle;\n",
       "    }\n",
       "\n",
       "    .dataframe tbody tr th {\n",
       "        vertical-align: top;\n",
       "    }\n",
       "\n",
       "    .dataframe thead th {\n",
       "        text-align: right;\n",
       "    }\n",
       "</style>\n",
       "<table border=\"1\" class=\"dataframe\">\n",
       "  <thead>\n",
       "    <tr style=\"text-align: right;\">\n",
       "      <th></th>\n",
       "      <th>customer_num</th>\n",
       "      <th>Distance</th>\n",
       "    </tr>\n",
       "    <tr>\n",
       "      <th>Merchant_id</th>\n",
       "      <th></th>\n",
       "      <th></th>\n",
       "    </tr>\n",
       "  </thead>\n",
       "  <tbody>\n",
       "    <tr>\n",
       "      <th>450</th>\n",
       "      <td>1094</td>\n",
       "      <td>3.512198</td>\n",
       "    </tr>\n",
       "    <tr>\n",
       "      <th>760</th>\n",
       "      <td>2627</td>\n",
       "      <td>1.225028</td>\n",
       "    </tr>\n",
       "    <tr>\n",
       "      <th>1379</th>\n",
       "      <td>587</td>\n",
       "      <td>0.783554</td>\n",
       "    </tr>\n",
       "    <tr>\n",
       "      <th>1433</th>\n",
       "      <td>559</td>\n",
       "      <td>3.993684</td>\n",
       "    </tr>\n",
       "    <tr>\n",
       "      <th>1469</th>\n",
       "      <td>584</td>\n",
       "      <td>2.652724</td>\n",
       "    </tr>\n",
       "    <tr>\n",
       "      <th>1520</th>\n",
       "      <td>870</td>\n",
       "      <td>NaN</td>\n",
       "    </tr>\n",
       "    <tr>\n",
       "      <th>2099</th>\n",
       "      <td>1401</td>\n",
       "      <td>1.844211</td>\n",
       "    </tr>\n",
       "    <tr>\n",
       "      <th>2934</th>\n",
       "      <td>1310</td>\n",
       "      <td>0.982985</td>\n",
       "    </tr>\n",
       "    <tr>\n",
       "      <th>3381</th>\n",
       "      <td>2248</td>\n",
       "      <td>2.713991</td>\n",
       "    </tr>\n",
       "    <tr>\n",
       "      <th>3532</th>\n",
       "      <td>968</td>\n",
       "      <td>0.404509</td>\n",
       "    </tr>\n",
       "    <tr>\n",
       "      <th>3621</th>\n",
       "      <td>851</td>\n",
       "      <td>0.759488</td>\n",
       "    </tr>\n",
       "    <tr>\n",
       "      <th>4142</th>\n",
       "      <td>832</td>\n",
       "      <td>0.704991</td>\n",
       "    </tr>\n",
       "    <tr>\n",
       "      <th>5341</th>\n",
       "      <td>2800</td>\n",
       "      <td>0.398888</td>\n",
       "    </tr>\n",
       "    <tr>\n",
       "      <th>6485</th>\n",
       "      <td>2029</td>\n",
       "      <td>0.549019</td>\n",
       "    </tr>\n",
       "    <tr>\n",
       "      <th>6901</th>\n",
       "      <td>855</td>\n",
       "      <td>0.830692</td>\n",
       "    </tr>\n",
       "    <tr>\n",
       "      <th>7555</th>\n",
       "      <td>925</td>\n",
       "      <td>3.372003</td>\n",
       "    </tr>\n",
       "  </tbody>\n",
       "</table>\n",
       "</div>"
      ],
      "text/plain": [
       "             customer_num  Distance\n",
       "Merchant_id                        \n",
       "450                  1094  3.512198\n",
       "760                  2627  1.225028\n",
       "1379                  587  0.783554\n",
       "1433                  559  3.993684\n",
       "1469                  584  2.652724\n",
       "1520                  870       NaN\n",
       "2099                 1401  1.844211\n",
       "2934                 1310  0.982985\n",
       "3381                 2248  2.713991\n",
       "3532                  968  0.404509\n",
       "3621                  851  0.759488\n",
       "4142                  832  0.704991\n",
       "5341                 2800  0.398888\n",
       "6485                 2029  0.549019\n",
       "6901                  855  0.830692\n",
       "7555                  925  3.372003"
      ]
     },
     "execution_count": 32,
     "metadata": {},
     "output_type": "execute_result"
    }
   ],
   "source": [
    "#先连接df500和df1\n",
    "dfmerge = pd.merge(left=df500,right=df1,on='Merchant_id',how='inner')\n",
    "dfmerge"
   ]
  },
  {
   "cell_type": "code",
   "execution_count": 33,
   "id": "a2552e04-92e7-45be-a40b-2c4c4f62a943",
   "metadata": {},
   "outputs": [
    {
     "data": {
      "text/html": [
       "<div>\n",
       "<style scoped>\n",
       "    .dataframe tbody tr th:only-of-type {\n",
       "        vertical-align: middle;\n",
       "    }\n",
       "\n",
       "    .dataframe tbody tr th {\n",
       "        vertical-align: top;\n",
       "    }\n",
       "\n",
       "    .dataframe thead th {\n",
       "        text-align: right;\n",
       "    }\n",
       "</style>\n",
       "<table border=\"1\" class=\"dataframe\">\n",
       "  <thead>\n",
       "    <tr style=\"text-align: right;\">\n",
       "      <th></th>\n",
       "      <th>customer_num</th>\n",
       "      <th>Distance</th>\n",
       "      <th>Discount_rate</th>\n",
       "    </tr>\n",
       "    <tr>\n",
       "      <th>Merchant_id</th>\n",
       "      <th></th>\n",
       "      <th></th>\n",
       "      <th></th>\n",
       "    </tr>\n",
       "  </thead>\n",
       "  <tbody>\n",
       "    <tr>\n",
       "      <th>450</th>\n",
       "      <td>1094</td>\n",
       "      <td>3.512198</td>\n",
       "      <td>0.828874</td>\n",
       "    </tr>\n",
       "    <tr>\n",
       "      <th>760</th>\n",
       "      <td>2627</td>\n",
       "      <td>1.225028</td>\n",
       "      <td>0.807391</td>\n",
       "    </tr>\n",
       "    <tr>\n",
       "      <th>1379</th>\n",
       "      <td>587</td>\n",
       "      <td>0.783554</td>\n",
       "      <td>0.830516</td>\n",
       "    </tr>\n",
       "    <tr>\n",
       "      <th>1433</th>\n",
       "      <td>559</td>\n",
       "      <td>3.993684</td>\n",
       "      <td>0.808494</td>\n",
       "    </tr>\n",
       "    <tr>\n",
       "      <th>1469</th>\n",
       "      <td>584</td>\n",
       "      <td>2.652724</td>\n",
       "      <td>0.708007</td>\n",
       "    </tr>\n",
       "    <tr>\n",
       "      <th>1520</th>\n",
       "      <td>870</td>\n",
       "      <td>NaN</td>\n",
       "      <td>0.921321</td>\n",
       "    </tr>\n",
       "    <tr>\n",
       "      <th>2099</th>\n",
       "      <td>1401</td>\n",
       "      <td>1.844211</td>\n",
       "      <td>0.900000</td>\n",
       "    </tr>\n",
       "    <tr>\n",
       "      <th>2934</th>\n",
       "      <td>1310</td>\n",
       "      <td>0.982985</td>\n",
       "      <td>0.830000</td>\n",
       "    </tr>\n",
       "    <tr>\n",
       "      <th>3381</th>\n",
       "      <td>2248</td>\n",
       "      <td>2.713991</td>\n",
       "      <td>0.866312</td>\n",
       "    </tr>\n",
       "    <tr>\n",
       "      <th>3532</th>\n",
       "      <td>968</td>\n",
       "      <td>0.404509</td>\n",
       "      <td>0.873439</td>\n",
       "    </tr>\n",
       "    <tr>\n",
       "      <th>3621</th>\n",
       "      <td>851</td>\n",
       "      <td>0.759488</td>\n",
       "      <td>0.755288</td>\n",
       "    </tr>\n",
       "    <tr>\n",
       "      <th>4142</th>\n",
       "      <td>832</td>\n",
       "      <td>0.704991</td>\n",
       "      <td>0.900000</td>\n",
       "    </tr>\n",
       "    <tr>\n",
       "      <th>5341</th>\n",
       "      <td>2800</td>\n",
       "      <td>0.398888</td>\n",
       "      <td>0.823894</td>\n",
       "    </tr>\n",
       "    <tr>\n",
       "      <th>6485</th>\n",
       "      <td>2029</td>\n",
       "      <td>0.549019</td>\n",
       "      <td>0.799271</td>\n",
       "    </tr>\n",
       "    <tr>\n",
       "      <th>6901</th>\n",
       "      <td>855</td>\n",
       "      <td>0.830692</td>\n",
       "      <td>0.833830</td>\n",
       "    </tr>\n",
       "    <tr>\n",
       "      <th>7555</th>\n",
       "      <td>925</td>\n",
       "      <td>3.372003</td>\n",
       "      <td>0.829575</td>\n",
       "    </tr>\n",
       "  </tbody>\n",
       "</table>\n",
       "</div>"
      ],
      "text/plain": [
       "             customer_num  Distance  Discount_rate\n",
       "Merchant_id                                       \n",
       "450                  1094  3.512198       0.828874\n",
       "760                  2627  1.225028       0.807391\n",
       "1379                  587  0.783554       0.830516\n",
       "1433                  559  3.993684       0.808494\n",
       "1469                  584  2.652724       0.708007\n",
       "1520                  870       NaN       0.921321\n",
       "2099                 1401  1.844211       0.900000\n",
       "2934                 1310  0.982985       0.830000\n",
       "3381                 2248  2.713991       0.866312\n",
       "3532                  968  0.404509       0.873439\n",
       "3621                  851  0.759488       0.755288\n",
       "4142                  832  0.704991       0.900000\n",
       "5341                 2800  0.398888       0.823894\n",
       "6485                 2029  0.549019       0.799271\n",
       "6901                  855  0.830692       0.833830\n",
       "7555                  925  3.372003       0.829575"
      ]
     },
     "execution_count": 33,
     "metadata": {},
     "output_type": "execute_result"
    }
   ],
   "source": [
    "dfmerge1 = pd.merge(left=dfmerge,right=df2,on='Merchant_id',how='inner')\n",
    "dfmerge1\n",
    "#得到了持券消费人数大于500商家的平均距离和平均折扣"
   ]
  },
  {
   "cell_type": "markdown",
   "id": "2ac8eaed-ae19-4d31-81a4-d713c956b994",
   "metadata": {},
   "source": [
    "3.4找到变量之间的相关系数"
   ]
  },
  {
   "cell_type": "code",
   "execution_count": 34,
   "id": "38c33256-3a73-4256-947f-779f4fd70163",
   "metadata": {},
   "outputs": [],
   "source": [
    "#持券到店人数与到店距离和折扣力度之间的关系\n",
    "dfcorr = dfmerge1.corr(method='pearson')"
   ]
  },
  {
   "cell_type": "code",
   "execution_count": 35,
   "id": "af0f1e25-348c-42ea-8945-d01ffe1803db",
   "metadata": {},
   "outputs": [
    {
     "data": {
      "text/html": [
       "<div>\n",
       "<style scoped>\n",
       "    .dataframe tbody tr th:only-of-type {\n",
       "        vertical-align: middle;\n",
       "    }\n",
       "\n",
       "    .dataframe tbody tr th {\n",
       "        vertical-align: top;\n",
       "    }\n",
       "\n",
       "    .dataframe thead th {\n",
       "        text-align: right;\n",
       "    }\n",
       "</style>\n",
       "<table border=\"1\" class=\"dataframe\">\n",
       "  <thead>\n",
       "    <tr style=\"text-align: right;\">\n",
       "      <th></th>\n",
       "      <th>customer_num</th>\n",
       "      <th>Distance</th>\n",
       "      <th>Discount_rate</th>\n",
       "    </tr>\n",
       "  </thead>\n",
       "  <tbody>\n",
       "    <tr>\n",
       "      <th>customer_num</th>\n",
       "      <td>1.000000</td>\n",
       "      <td>-0.261520</td>\n",
       "      <td>0.049068</td>\n",
       "    </tr>\n",
       "    <tr>\n",
       "      <th>Distance</th>\n",
       "      <td>-0.261520</td>\n",
       "      <td>1.000000</td>\n",
       "      <td>-0.146687</td>\n",
       "    </tr>\n",
       "    <tr>\n",
       "      <th>Discount_rate</th>\n",
       "      <td>0.049068</td>\n",
       "      <td>-0.146687</td>\n",
       "      <td>1.000000</td>\n",
       "    </tr>\n",
       "  </tbody>\n",
       "</table>\n",
       "</div>"
      ],
      "text/plain": [
       "               customer_num  Distance  Discount_rate\n",
       "customer_num       1.000000 -0.261520       0.049068\n",
       "Distance          -0.261520  1.000000      -0.146687\n",
       "Discount_rate      0.049068 -0.146687       1.000000"
      ]
     },
     "execution_count": 35,
     "metadata": {},
     "output_type": "execute_result"
    }
   ],
   "source": [
    "dfcorr"
   ]
  },
  {
   "cell_type": "code",
   "execution_count": 36,
   "id": "626e23db-44f8-46c4-8fb1-860d50b12240",
   "metadata": {},
   "outputs": [],
   "source": [
    "import seaborn as sns "
   ]
  },
  {
   "cell_type": "code",
   "execution_count": 38,
   "id": "d727d643-001d-4180-afe4-2c63b0666921",
   "metadata": {},
   "outputs": [
    {
     "data": {
      "text/plain": [
       "<Axes: >"
      ]
     },
     "execution_count": 38,
     "metadata": {},
     "output_type": "execute_result"
    },
    {
     "data": {
      "image/png": "[encoded data removed]",
      "text/plain": [
       "<Figure size 640x480 with 2 Axes>"
      ]
     },
     "metadata": {},
     "output_type": "display_data"
    }
   ],
   "source": [
    "sns.heatmap(data = dfcorr,annot=True,cmap = 'Accent',vmax=1,vmin=-1)"
   ]
  },
  {
   "cell_type": "code",
   "execution_count": null,
   "id": "f02b6963-2d0d-4ccc-ae77-2c7e7f709dac",
   "metadata": {},
   "outputs": [],
   "source": [
    "由图可知：\n",
    "1、到店消费人数的多少与顾客到店铺的距离之间呈现负相关，为低度相关"
   ]
  }
 ],
 "metadata": {
  "kernelspec": {
   "display_name": "Python 3 (ipykernel)",
   "language": "python",
   "name": "python3"
  },
  "language_info": {
   "codemirror_mode": {
    "name": "ipython",
    "version": 3
   },
   "file_extension": ".py",
   "mimetype": "text/x-python",
   "name": "python",
   "nbconvert_exporter": "python",
   "pygments_lexer": "ipython3",
   "version": "3.10.4"
  }
 },
 "nbformat": 4,
 "nbformat_minor": 5
}
